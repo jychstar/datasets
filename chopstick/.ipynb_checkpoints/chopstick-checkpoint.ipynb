{
 "cells": [
  {
   "cell_type": "code",
   "execution_count": 1,
   "metadata": {
    "collapsed": true
   },
   "outputs": [],
   "source": [
    "# change theme of ipython notebooks\n",
    "from IPython.core.display import HTML\n",
    "import urllib2\n",
    "HTML(urllib2.urlopen('http://bit.ly/1Bf5Hft').read())\n",
    "\n",
    "# import the most useful librarise for data analysis\n",
    "import numpy as np\n",
    "import pandas as pd\n",
    "import matplotlib.pyplot as plt\n",
    "import seaborn as sns\n",
    "% matplotlib inline"
   ]
  },
  {
   "cell_type": "markdown",
   "metadata": {},
   "source": [
    "## read file into a panda dataframe"
   ]
  },
  {
   "cell_type": "code",
   "execution_count": 2,
   "metadata": {
    "collapsed": true
   },
   "outputs": [],
   "source": [
    "# dataset is original from https://exaptive.city/#/assets/f89fd760-8cab-11e6-a897-2dbff63efc07/edit?version=stage\n",
    "df = pd.read_csv(\"chopstick.csv\")"
   ]
  },
  {
   "cell_type": "code",
   "execution_count": 3,
   "metadata": {
    "collapsed": false
   },
   "outputs": [
    {
     "data": {
      "text/html": [
       "<div>\n",
       "<table border=\"1\" class=\"dataframe\">\n",
       "  <thead>\n",
       "    <tr style=\"text-align: right;\">\n",
       "      <th></th>\n",
       "      <th>Food.Pinching.Effeciency</th>\n",
       "      <th>Individual</th>\n",
       "      <th>Chopstick.Length</th>\n",
       "    </tr>\n",
       "  </thead>\n",
       "  <tbody>\n",
       "    <tr>\n",
       "      <th>0</th>\n",
       "      <td>19.55</td>\n",
       "      <td>1</td>\n",
       "      <td>180</td>\n",
       "    </tr>\n",
       "    <tr>\n",
       "      <th>1</th>\n",
       "      <td>27.24</td>\n",
       "      <td>2</td>\n",
       "      <td>180</td>\n",
       "    </tr>\n",
       "    <tr>\n",
       "      <th>2</th>\n",
       "      <td>28.76</td>\n",
       "      <td>3</td>\n",
       "      <td>180</td>\n",
       "    </tr>\n",
       "    <tr>\n",
       "      <th>3</th>\n",
       "      <td>31.19</td>\n",
       "      <td>4</td>\n",
       "      <td>180</td>\n",
       "    </tr>\n",
       "    <tr>\n",
       "      <th>4</th>\n",
       "      <td>21.91</td>\n",
       "      <td>5</td>\n",
       "      <td>180</td>\n",
       "    </tr>\n",
       "  </tbody>\n",
       "</table>\n",
       "</div>"
      ],
      "text/plain": [
       "   Food.Pinching.Effeciency  Individual  Chopstick.Length\n",
       "0                     19.55           1               180\n",
       "1                     27.24           2               180\n",
       "2                     28.76           3               180\n",
       "3                     31.19           4               180\n",
       "4                     21.91           5               180"
      ]
     },
     "execution_count": 3,
     "metadata": {},
     "output_type": "execute_result"
    }
   ],
   "source": [
    "df.head()"
   ]
  },
  {
   "cell_type": "code",
   "execution_count": 4,
   "metadata": {
    "collapsed": false
   },
   "outputs": [
    {
     "name": "stdout",
     "output_type": "stream",
     "text": [
      "<class 'pandas.core.frame.DataFrame'>\n",
      "RangeIndex: 186 entries, 0 to 185\n",
      "Data columns (total 3 columns):\n",
      "Food.Pinching.Effeciency    186 non-null float64\n",
      "Individual                  186 non-null int64\n",
      "Chopstick.Length            186 non-null int64\n",
      "dtypes: float64(1), int64(2)\n",
      "memory usage: 4.4 KB\n"
     ]
    }
   ],
   "source": [
    "df.info()"
   ]
  },
  {
   "cell_type": "code",
   "execution_count": 5,
   "metadata": {
    "collapsed": false
   },
   "outputs": [
    {
     "data": {
      "text/html": [
       "<div>\n",
       "<table border=\"1\" class=\"dataframe\">\n",
       "  <thead>\n",
       "    <tr style=\"text-align: right;\">\n",
       "      <th></th>\n",
       "      <th>Food.Pinching.Effeciency</th>\n",
       "      <th>Individual</th>\n",
       "      <th>Chopstick.Length</th>\n",
       "    </tr>\n",
       "  </thead>\n",
       "  <tbody>\n",
       "    <tr>\n",
       "      <th>count</th>\n",
       "      <td>186.000000</td>\n",
       "      <td>186.000000</td>\n",
       "      <td>186.00000</td>\n",
       "    </tr>\n",
       "    <tr>\n",
       "      <th>mean</th>\n",
       "      <td>25.005591</td>\n",
       "      <td>16.000000</td>\n",
       "      <td>255.00000</td>\n",
       "    </tr>\n",
       "    <tr>\n",
       "      <th>std</th>\n",
       "      <td>4.039693</td>\n",
       "      <td>8.968413</td>\n",
       "      <td>51.37304</td>\n",
       "    </tr>\n",
       "    <tr>\n",
       "      <th>min</th>\n",
       "      <td>14.470000</td>\n",
       "      <td>1.000000</td>\n",
       "      <td>180.00000</td>\n",
       "    </tr>\n",
       "    <tr>\n",
       "      <th>25%</th>\n",
       "      <td>22.540000</td>\n",
       "      <td>8.000000</td>\n",
       "      <td>210.00000</td>\n",
       "    </tr>\n",
       "    <tr>\n",
       "      <th>50%</th>\n",
       "      <td>24.905000</td>\n",
       "      <td>16.000000</td>\n",
       "      <td>255.00000</td>\n",
       "    </tr>\n",
       "    <tr>\n",
       "      <th>75%</th>\n",
       "      <td>27.932500</td>\n",
       "      <td>24.000000</td>\n",
       "      <td>300.00000</td>\n",
       "    </tr>\n",
       "    <tr>\n",
       "      <th>max</th>\n",
       "      <td>36.150000</td>\n",
       "      <td>31.000000</td>\n",
       "      <td>330.00000</td>\n",
       "    </tr>\n",
       "  </tbody>\n",
       "</table>\n",
       "</div>"
      ],
      "text/plain": [
       "       Food.Pinching.Effeciency  Individual  Chopstick.Length\n",
       "count                186.000000  186.000000         186.00000\n",
       "mean                  25.005591   16.000000         255.00000\n",
       "std                    4.039693    8.968413          51.37304\n",
       "min                   14.470000    1.000000         180.00000\n",
       "25%                   22.540000    8.000000         210.00000\n",
       "50%                   24.905000   16.000000         255.00000\n",
       "75%                   27.932500   24.000000         300.00000\n",
       "max                   36.150000   31.000000         330.00000"
      ]
     },
     "execution_count": 5,
     "metadata": {},
     "output_type": "execute_result"
    }
   ],
   "source": [
    "df.describe()"
   ]
  },
  {
   "cell_type": "code",
   "execution_count": 13,
   "metadata": {
    "collapsed": false
   },
   "outputs": [
    {
     "data": {
      "text/plain": [
       "array([180, 210, 240, 270, 300, 330])"
      ]
     },
     "execution_count": 13,
     "metadata": {},
     "output_type": "execute_result"
    }
   ],
   "source": [
    "df[\"Chopstick.Length\"].unique()  # 6 lengths"
   ]
  },
  {
   "cell_type": "code",
   "execution_count": 14,
   "metadata": {
    "collapsed": false
   },
   "outputs": [
    {
     "data": {
      "text/plain": [
       "array([ 1,  2,  3,  4,  5,  6,  7,  8,  9, 10, 11, 12, 13, 14, 15, 16, 17,\n",
       "       18, 19, 20, 21, 22, 23, 24, 25, 26, 27, 28, 29, 30, 31])"
      ]
     },
     "execution_count": 14,
     "metadata": {},
     "output_type": "execute_result"
    }
   ],
   "source": [
    "df.Individual.unique()   # 31 participants"
   ]
  },
  {
   "cell_type": "code",
   "execution_count": 7,
   "metadata": {
    "collapsed": false
   },
   "outputs": [
    {
     "data": {
      "text/plain": [
       "<seaborn.axisgrid.JointGrid at 0x113d26f10>"
      ]
     },
     "execution_count": 7,
     "metadata": {},
     "output_type": "execute_result"
    },
    {
     "data": {
      "image/png": "[encoded data removed]",
      "text/plain": [
       "<matplotlib.figure.Figure at 0x113d26a50>"
      ]
     },
     "metadata": {},
     "output_type": "display_data"
    }
   ],
   "source": [
    "sns.jointplot(x=\"Chopstick.Length\",y=\"Food.Pinching.Effeciency\", data=df)"
   ]
  },
  {
   "cell_type": "code",
   "execution_count": 8,
   "metadata": {
    "collapsed": false
   },
   "outputs": [
    {
     "data": {
      "text/plain": [
       "<matplotlib.axes._subplots.AxesSubplot at 0x1166e5dd0>"
      ]
     },
     "execution_count": 8,
     "metadata": {},
     "output_type": "execute_result"
    },
    {
     "data": {
      "image/png": "[encoded data removed]",
      "text/plain": [
       "<matplotlib.figure.Figure at 0x1166c3490>"
      ]
     },
     "metadata": {},
     "output_type": "display_data"
    }
   ],
   "source": [
    "sns.violinplot(x=\"Chopstick.Length\",y=\"Food.Pinching.Effeciency\", data=df)"
   ]
  },
  {
   "cell_type": "markdown",
   "metadata": {},
   "source": [
    "## read csv file into a list of dictionaries, aka, JSON array"
   ]
  },
  {
   "cell_type": "code",
   "execution_count": 9,
   "metadata": {
    "collapsed": true
   },
   "outputs": [],
   "source": [
    "import csv\n",
    "data =[]\n",
    "with open('chopstick.csv','rb') as f:\n",
    "    r = csv.DictReader(f)\n",
    "    for line in r:\n",
    "        # print line\n",
    "        data.append(line)"
   ]
  },
  {
   "cell_type": "markdown",
   "metadata": {},
   "source": [
    "## read csv into a list of lists"
   ]
  },
  {
   "cell_type": "code",
   "execution_count": 10,
   "metadata": {
    "collapsed": false
   },
   "outputs": [
    {
     "name": "stdout",
     "output_type": "stream",
     "text": [
      "['Food.Pinching.Effeciency', 'Individual', 'Chopstick.Length']\n"
     ]
    }
   ],
   "source": [
    "a=[]\n",
    "with open('chopstick.csv','rb') as f:\n",
    "    r = csv.reader(f)\n",
    "    name =r.next()\n",
    "    print name\n",
    "    unit = r.next()\n",
    "    for row in r:\n",
    "        # print row\n",
    "        a.append(row)"
   ]
  },
  {
   "cell_type": "markdown",
   "metadata": {},
   "source": [
    "## data analysis using JSON array in an Exaptive Component\n",
    "\n",
    "**my opinion**: splitting the data row by row in JSON format is not convenient for analysis. We will see in the following examples, the data is stored to respective user. In contrast, the table-like data, either it is pandas dataframe or SQL table, the statistical analysis is much more efficient. \n",
    "\n",
    "As a result, we should always try to **convert JSON Array back to table** if possible."
   ]
  },
  {
   "cell_type": "code",
   "execution_count": 11,
   "metadata": {
    "collapsed": false
   },
   "outputs": [],
   "source": [
    "users ={}  # store data by (id, info) pairs, while info is a dictionary with two keys: \"id\", \"scores\"\n",
    "for trial in data:\n",
    "    id = trial[\"Individual\"]\n",
    "    if id not in users:\n",
    "        users[id] = {\n",
    "            \"id\": id,\n",
    "            \"scores\": {}  # scores itself is a third level dictionary storing (length, efficiency pairt)\n",
    "        }\n",
    "    users[id][\"scores\"][trial[\"Chopstick.Length\"]] = trial[\"Food.Pinching.Effeciency\"]\n",
    "\n",
    "user_duffle = []\n",
    "user_cluster_data = []\n",
    "\n",
    "## for each user, add a list of efficiencies, average efficiency and normalized efficiency\n",
    "for user in users:\n",
    "    efficiencies = []\n",
    "    for score in users[user][\"scores\"]:\n",
    "        efficiencies.append(users[user][\"scores\"][score])\n",
    "        \n",
    "    #print type(efficiencies[0])\n",
    "    efficiencies = np.array(efficiencies,dtype=np.float)  # convert to numpy array and datatype\n",
    "\n",
    "    user_cluster_data.append(efficiencies)\n",
    "\n",
    "    users[user][\"avg_efficiency\"] = np.mean(efficiencies)\n",
    "\n",
    "    efficiencies /= np.max(np.abs(efficiencies),axis=0)  # normalize efficiency by the same person\n",
    "\n",
    "    users[user][\"180mm\"] = efficiencies[0]\n",
    "    users[user][\"210mm\"] = efficiencies[1]\n",
    "    users[user][\"240mm\"] = efficiencies[2]\n",
    "    users[user][\"270mm\"] = efficiencies[3]\n",
    "    users[user][\"300mm\"] = efficiencies[4]\n",
    "    users[user][\"330mm\"] = efficiencies[5]\n",
    "\n",
    "    user_duffle.append(users[user])"
   ]
  },
  {
   "cell_type": "code",
   "execution_count": 15,
   "metadata": {
    "collapsed": false
   },
   "outputs": [
    {
     "name": "stdout",
     "output_type": "stream",
     "text": [
      "[   {   '180mm': 1.0,\n",
      "        '210mm': 0.9800295857988166,\n",
      "        '240mm': 0.91937869822485208,\n",
      "        '270mm': 0.91494082840236679,\n",
      "        '300mm': 0.84393491124260356,\n",
      "        '330mm': 0.90828402366863903,\n",
      "        'avg_efficiency': 25.08666666666667,\n",
      "        'cluster': 0,\n",
      "        'id': '24',\n",
      "        'scores': {   '180': '22.82',\n",
      "                      '210': '27.04',\n",
      "                      '240': '24.56',\n",
      "                      '270': '24.74',\n",
      "                      '300': '26.5',\n",
      "                      '330': '24.86'}},\n",
      "    {   '180mm': 0.9784425868895732,\n",
      "        '210mm': 0.82314122305323367,\n",
      "        '240mm': 0.71623405191377043,\n",
      "        '270mm': 1.0,\n",
      "        '300mm': 0.78926528816542019,\n",
      "        '330mm': 0.7193136823581171,\n",
      "        'avg_efficiency': 19.041666666666668,\n",
      "        'cluster': 0,\n",
      "        'id': '25',\n",
      "        'scores': {   '180': '17.94',\n",
      "                      '210': '22.24',\n",
      "                      '240': '16.35',\n",
      "                      '270': '22.73',\n",
      "                      '300': '18.71',\n",
      "                      '330': '16.28'}},\n",
      "    {   '180mm': 0.93250843644544434,\n",
      "        '210mm': 0.8571428571428571,\n",
      "        '240mm': 0.80689913760779897,\n",
      "        '270mm': 0.79040119985001867,\n",
      "        '300mm': 1.0,\n",
      "        '330mm': 0.86089238845144356,\n",
      "        'avg_efficiency': 23.326666666666668,\n",
      "        'cluster': 1,\n",
      "        'id': '26',\n",
      "        'scores': {   '180': '26.67',\n",
      "                      '210': '24.87',\n",
      "                      '240': '22.96',\n",
      "                      '270': '21.08',\n",
      "                      '300': '22.86',\n",
      "                      '330': '21.52'}},\n",
      "    {   '180mm': 1.0,\n",
      "        '210mm': 0.81329011345218793,\n",
      "        '240mm': 0.88233387358184756,\n",
      "        '270mm': 0.83306320907617493,\n",
      "        '300mm': 0.93938411669367905,\n",
      "        '330mm': 0.83695299837925441,\n",
      "        'avg_efficiency': 27.276666666666667,\n",
      "        'cluster': 1,\n",
      "        'id': '27',\n",
      "        'scores': {   '180': '28.98',\n",
      "                      '210': '30.85',\n",
      "                      '240': '25.82',\n",
      "                      '270': '25.7',\n",
      "                      '300': '25.09',\n",
      "                      '330': '27.22'}},\n",
      "    {   '180mm': 0.77517468146321422,\n",
      "        '210mm': 1.0,\n",
      "        '240mm': 0.70365803534730798,\n",
      "        '270mm': 0.82983970406905072,\n",
      "        '300mm': 0.75955610357583236,\n",
      "        '330mm': 0.88779284833538852,\n",
      "        'avg_efficiency': 20.096666666666668,\n",
      "        'cluster': 2,\n",
      "        'id': '20',\n",
      "        'scores': {   '180': '18.48',\n",
      "                      '210': '18.86',\n",
      "                      '240': '21.6',\n",
      "                      '270': '20.19',\n",
      "                      '300': '24.33',\n",
      "                      '330': '17.12'}},\n",
      "    {   '180mm': 0.85562549173878832,\n",
      "        '210mm': 1.0,\n",
      "        '240mm': 0.9295830055074743,\n",
      "        '270mm': 0.79228953579858374,\n",
      "        '300mm': 0.90519276160503537,\n",
      "        '330mm': 0.99881982690794646,\n",
      "        'avg_efficiency': 23.223333333333333,\n",
      "        'cluster': 2,\n",
      "        'id': '21',\n",
      "        'scores': {   '180': '23.01',\n",
      "                      '210': '21.75',\n",
      "                      '240': '25.39',\n",
      "                      '270': '20.14',\n",
      "                      '300': '25.42',\n",
      "                      '330': '23.63'}},\n",
      "    {   '180mm': 0.93628246753246758,\n",
      "        '210mm': 1.0,\n",
      "        '240mm': 0.8486201298701298,\n",
      "        '270mm': 0.85592532467532467,\n",
      "        '300mm': 0.9196428571428571,\n",
      "        '330mm': 0.90340909090909094,\n",
      "        'avg_efficiency': 22.438333333333333,\n",
      "        'cluster': 0,\n",
      "        'id': '22',\n",
      "        'scores': {   '180': '22.66',\n",
      "                      '210': '23.07',\n",
      "                      '240': '22.26',\n",
      "                      '270': '21.09',\n",
      "                      '300': '24.64',\n",
      "                      '330': '20.91'}},\n",
      "    {   '180mm': 0.89738430583501005,\n",
      "        '210mm': 0.91670020120724349,\n",
      "        '240mm': 0.94527162977867196,\n",
      "        '270mm': 0.9971830985915493,\n",
      "        '300mm': 0.93521126760563367,\n",
      "        '330mm': 1.0,\n",
      "        'avg_efficiency': 23.573333333333334,\n",
      "        'cluster': 0,\n",
      "        'id': '23',\n",
      "        'scores': {   '180': '23.24',\n",
      "                      '210': '22.3',\n",
      "                      '240': '24.85',\n",
      "                      '270': '24.78',\n",
      "                      '300': '22.78',\n",
      "                      '330': '23.49'}},\n",
      "    {   '180mm': 0.98463687150837975,\n",
      "        '210mm': 0.91806331471135938,\n",
      "        '240mm': 0.81052141527001864,\n",
      "        '270mm': 0.92132216014897572,\n",
      "        '300mm': 1.0,\n",
      "        '330mm': 0.9059590316573557,\n",
      "        'avg_efficiency': 19.834999999999997,\n",
      "        'cluster': 0,\n",
      "        'id': '28',\n",
      "        'scores': {   '180': '21.48',\n",
      "                      '210': '21.15',\n",
      "                      '240': '19.46',\n",
      "                      '270': '19.79',\n",
      "                      '300': '19.72',\n",
      "                      '330': '17.41'}},\n",
      "    {   '180mm': 0.69788135593220335,\n",
      "        '210mm': 0.72245762711864403,\n",
      "        '240mm': 0.69576271186440686,\n",
      "        '270mm': 0.71271186440677958,\n",
      "        '300mm': 0.61313559322033895,\n",
      "        '330mm': 1.0,\n",
      "        'avg_efficiency': 17.471666666666664,\n",
      "        'cluster': 2,\n",
      "        'id': '29',\n",
      "        'scores': {   '180': '14.47',\n",
      "                      '210': '16.47',\n",
      "                      '240': '23.6',\n",
      "                      '270': '16.82',\n",
      "                      '300': '17.05',\n",
      "                      '330': '16.42'}},\n",
      "    {   '180mm': 0.96434426229508208,\n",
      "        '210mm': 0.92213114754098369,\n",
      "        '240mm': 0.8737704918032787,\n",
      "        '270mm': 1.0,\n",
      "        '300mm': 0.80122950819672134,\n",
      "        '330mm': 0.87459016393442623,\n",
      "        'avg_efficiency': 22.106666666666666,\n",
      "        'cluster': 0,\n",
      "        'id': '1',\n",
      "        'scores': {   '180': '19.55',\n",
      "                      '210': '23.53',\n",
      "                      '240': '21.34',\n",
      "                      '270': '24.4',\n",
      "                      '300': '22.5',\n",
      "                      '330': '21.32'}},\n",
      "    {   '180mm': 0.93778452200303475,\n",
      "        '210mm': 0.85766312594840666,\n",
      "        '240mm': 0.78694992412746578,\n",
      "        '270mm': 0.84886191198786032,\n",
      "        '300mm': 0.87283763277693471,\n",
      "        '330mm': 1.0,\n",
      "        'avg_efficiency': 29.12833333333333,\n",
      "        'cluster': 1,\n",
      "        'id': '3',\n",
      "        'scores': {   '180': '28.76',\n",
      "                      '210': '30.9',\n",
      "                      '240': '32.95',\n",
      "                      '270': '27.97',\n",
      "                      '300': '28.26',\n",
      "                      '330': '25.93'}},\n",
      "    {   '180mm': 0.88142952571810285,\n",
      "        '210mm': 0.77154308617234468,\n",
      "        '240mm': 0.87441549766199056,\n",
      "        '270mm': 0.86439545758183023,\n",
      "        '300mm': 0.90981963927855702,\n",
      "        '330mm': 1.0,\n",
      "        'avg_efficiency': 26.454999999999998,\n",
      "        'cluster': 1,\n",
      "        'id': '2',\n",
      "        'scores': {   '180': '27.24',\n",
      "                      '210': '26.39',\n",
      "                      '240': '29.94',\n",
      "                      '270': '25.88',\n",
      "                      '300': '23.1',\n",
      "                      '330': '26.18'}},\n",
      "    {   '180mm': 1.0,\n",
      "        '210mm': 0.71809196390201979,\n",
      "        '240mm': 0.88268156424581001,\n",
      "        '270mm': 0.97378599054576709,\n",
      "        '300mm': 0.94155565105285777,\n",
      "        '330mm': 0.95917490330898159,\n",
      "        'avg_efficiency': 21.234999999999999,\n",
      "        'cluster': 1,\n",
      "        'id': '5',\n",
      "        'scores': {   '180': '21.91',\n",
      "                      '210': '23.27',\n",
      "                      '240': '22.32',\n",
      "                      '270': '22.66',\n",
      "                      '300': '16.71',\n",
      "                      '330': '20.54'}},\n",
      "    {   '180mm': 0.83520359089451746,\n",
      "        '210mm': 0.81917281179865342,\n",
      "        '240mm': 0.91728117986534141,\n",
      "        '270mm': 0.78679063802500793,\n",
      "        '300mm': 1.0,\n",
      "        '330mm': 0.94260981083680662,\n",
      "        'avg_efficiency': 27.556666666666668,\n",
      "        'cluster': 1,\n",
      "        'id': '4',\n",
      "        'scores': {   '180': '31.19',\n",
      "                      '210': '26.05',\n",
      "                      '240': '29.4',\n",
      "                      '270': '24.54',\n",
      "                      '300': '25.55',\n",
      "                      '330': '28.61'}},\n",
      "    {   '180mm': 0.99549404570325073,\n",
      "        '210mm': 1.0,\n",
      "        '240mm': 0.94496298680399093,\n",
      "        '270mm': 0.98873511425812677,\n",
      "        '300mm': 0.94818152558738333,\n",
      "        '330mm': 0.9169616993884776,\n",
      "        'avg_efficiency': 30.004999999999999,\n",
      "        'cluster': 0,\n",
      "        'id': '7',\n",
      "        'scores': {   '180': '29.46',\n",
      "                      '210': '30.93',\n",
      "                      '240': '28.49',\n",
      "                      '270': '30.72',\n",
      "                      '300': '31.07',\n",
      "                      '330': '29.36'}},\n",
      "    {   '180mm': 1.0,\n",
      "        '210mm': 0.95577648268769277,\n",
      "        '240mm': 0.90641069592046619,\n",
      "        '270mm': 0.99211518683579014,\n",
      "        '300mm': 0.94686321563249909,\n",
      "        '330mm': 0.97223174494343501,\n",
      "        'avg_efficiency': 28.068333333333328,\n",
      "        'cluster': 0,\n",
      "        'id': '6',\n",
      "        'scores': {   '180': '27.62',\n",
      "                      '210': '29.17',\n",
      "                      '240': '28.36',\n",
      "                      '270': '28.94',\n",
      "                      '300': '27.88',\n",
      "                      '330': '26.44'}},\n",
      "    {   '180mm': 0.90041493775933601,\n",
      "        '210mm': 0.79723374827109272,\n",
      "        '240mm': 0.87662517289073316,\n",
      "        '270mm': 0.83734439834024899,\n",
      "        '300mm': 0.73831258644536657,\n",
      "        '330mm': 1.0,\n",
      "        'avg_efficiency': 31.028333333333336,\n",
      "        'cluster': 2,\n",
      "        'id': '9',\n",
      "        'scores': {   '180': '26.69',\n",
      "                      '210': '32.55',\n",
      "                      '240': '36.15',\n",
      "                      '270': '30.27',\n",
      "                      '300': '28.82',\n",
      "                      '330': '31.69'}},\n",
      "    {   '180mm': 0.66603415559772294,\n",
      "        '210mm': 0.88956356736242881,\n",
      "        '240mm': 0.75028462998102463,\n",
      "        '270mm': 0.63377609108159383,\n",
      "        '300mm': 1.0,\n",
      "        '330mm': 0.84402277039848184,\n",
      "        'avg_efficiency': 21.008333333333333,\n",
      "        'cluster': 2,\n",
      "        'id': '8',\n",
      "        'scores': {   '180': '26.35',\n",
      "                      '210': '17.55',\n",
      "                      '240': '22.24',\n",
      "                      '270': '16.7',\n",
      "                      '300': '23.44',\n",
      "                      '330': '19.77'}},\n",
      "    {   '180mm': 0.95397339086659483,\n",
      "        '210mm': 0.8824163969795038,\n",
      "        '240mm': 0.79431859043509534,\n",
      "        '270mm': 0.8029485796476088,\n",
      "        '300mm': 1.0,\n",
      "        '330mm': 0.95397339086659483,\n",
      "        'avg_efficiency': 24.971666666666664,\n",
      "        'cluster': 1,\n",
      "        'id': '11',\n",
      "        'scores': {   '180': '27.81',\n",
      "                      '210': '26.53',\n",
      "                      '240': '26.53',\n",
      "                      '270': '22.33',\n",
      "                      '300': '24.54',\n",
      "                      '330': '22.09'}},\n",
      "    {   '180mm': 0.9428478118876551,\n",
      "        '210mm': 0.90692357935989543,\n",
      "        '240mm': 0.80470280862181576,\n",
      "        '270mm': 0.85858915741345521,\n",
      "        '300mm': 0.98693664271717829,\n",
      "        '330mm': 1.0,\n",
      "        'avg_efficiency': 28.068333333333332,\n",
      "        'cluster': 1,\n",
      "        'id': '10',\n",
      "        'scores': {   '180': '30.22',\n",
      "                      '210': '28.87',\n",
      "                      '240': '30.62',\n",
      "                      '270': '26.29',\n",
      "                      '300': '27.77',\n",
      "                      '330': '24.64'}},\n",
      "    {   '180mm': 0.81454429977770726,\n",
      "        '210mm': 0.88218482057796133,\n",
      "        '240mm': 0.90917751667195934,\n",
      "        '270mm': 0.77262623054938073,\n",
      "        '300mm': 0.75071451254366472,\n",
      "        '330mm': 1.0,\n",
      "        'avg_efficiency': 26.920000000000002,\n",
      "        'cluster': 2,\n",
      "        'id': '13',\n",
      "        'scores': {   '180': '23.64',\n",
      "                      '210': '25.65',\n",
      "                      '240': '31.49',\n",
      "                      '270': '24.33',\n",
      "                      '300': '27.78',\n",
      "                      '330': '28.63'}},\n",
      "    {   '180mm': 0.90375670840787126,\n",
      "        '210mm': 0.87835420393559938,\n",
      "        '240mm': 0.83792486583184267,\n",
      "        '270mm': 0.88908765652951705,\n",
      "        '300mm': 0.83935599284436502,\n",
      "        '330mm': 1.0,\n",
      "        'avg_efficiency': 24.915000000000003,\n",
      "        'cluster': 1,\n",
      "        'id': '12',\n",
      "        'scores': {   '180': '23.46',\n",
      "                      '210': '25.26',\n",
      "                      '240': '27.95',\n",
      "                      '270': '24.85',\n",
      "                      '300': '24.55',\n",
      "                      '330': '23.42'}},\n",
      "    {   '180mm': 0.93790322580645169,\n",
      "        '210mm': 0.94516129032258067,\n",
      "        '240mm': 0.92298387096774193,\n",
      "        '270mm': 0.91411290322580652,\n",
      "        '300mm': 0.83145161290322578,\n",
      "        '330mm': 1.0,\n",
      "        'avg_efficiency': 22.946666666666669,\n",
      "        'cluster': 0,\n",
      "        'id': '15',\n",
      "        'scores': {   '180': '20.62',\n",
      "                      '210': '23.26',\n",
      "                      '240': '24.8',\n",
      "                      '270': '22.67',\n",
      "                      '300': '23.44',\n",
      "                      '330': '22.89'}},\n",
      "    {   '180mm': 0.97189153439153442,\n",
      "        '210mm': 0.86441798941798953,\n",
      "        '240mm': 0.86970899470899476,\n",
      "        '270mm': 0.81018518518518523,\n",
      "        '300mm': 0.9209656084656086,\n",
      "        '330mm': 1.0,\n",
      "        'avg_efficiency': 27.403333333333336,\n",
      "        'cluster': 1,\n",
      "        'id': '14',\n",
      "        'scores': {   '180': '27.85',\n",
      "                      '210': '29.39',\n",
      "                      '240': '30.24',\n",
      "                      '270': '24.5',\n",
      "                      '300': '26.14',\n",
      "                      '330': '26.3'}},\n",
      "    {   '180mm': 0.82212160413971536,\n",
      "        '210mm': 0.88842173350582143,\n",
      "        '240mm': 1.0,\n",
      "        '270mm': 0.7697283311772315,\n",
      "        '300mm': 0.90556274256144886,\n",
      "        '330mm': 0.94922380336351875,\n",
      "        'avg_efficiency': 27.493333333333336,\n",
      "        'cluster': 2,\n",
      "        'id': '17',\n",
      "        'scores': {   '180': '28',\n",
      "                      '210': '25.42',\n",
      "                      '240': '29.35',\n",
      "                      '270': '23.8',\n",
      "                      '300': '27.47',\n",
      "                      '330': '30.92'}},\n",
      "    {   '180mm': 0.93683812405446287,\n",
      "        '210mm': 1.0,\n",
      "        '240mm': 0.85779122541603625,\n",
      "        '270mm': 0.84266263237518912,\n",
      "        '300mm': 0.95877458396369142,\n",
      "        '330mm': 0.99962178517397882,\n",
      "        'avg_efficiency': 24.658333333333335,\n",
      "        'cluster': 0,\n",
      "        'id': '16',\n",
      "        'scores': {   '180': '25.35',\n",
      "                      '210': '24.77',\n",
      "                      '240': '26.43',\n",
      "                      '270': '22.28',\n",
      "                      '300': '26.44',\n",
      "                      '330': '22.68'}},\n",
      "    {   '180mm': 1.0,\n",
      "        '210mm': 0.92116697703289885,\n",
      "        '240mm': 0.84543761638733705,\n",
      "        '270mm': 0.91558038485412785,\n",
      "        '300mm': 0.86188702669149597,\n",
      "        '330mm': 0.90564866542520173,\n",
      "        'avg_efficiency': 29.265000000000001,\n",
      "        'cluster': 0,\n",
      "        'id': '19',\n",
      "        'scores': {   '180': '27.77',\n",
      "                      '210': '32.22',\n",
      "                      '240': '29.18',\n",
      "                      '270': '29.5',\n",
      "                      '300': '29.68',\n",
      "                      '330': '27.24'}},\n",
      "    {   '180mm': 0.93257097791798105,\n",
      "        '210mm': 0.98343848580441651,\n",
      "        '240mm': 0.81782334384858035,\n",
      "        '270mm': 1.0,\n",
      "        '300mm': 0.92626182965299686,\n",
      "        '330mm': 0.83399053627760245,\n",
      "        'avg_efficiency': 23.221666666666664,\n",
      "        'cluster': 0,\n",
      "        'id': '18',\n",
      "        'scores': {   '180': '23.49',\n",
      "                      '210': '23.65',\n",
      "                      '240': '21.15',\n",
      "                      '270': '25.36',\n",
      "                      '300': '24.94',\n",
      "                      '330': '20.74'}},\n",
      "    {   '180mm': 0.96496245977833395,\n",
      "        '210mm': 0.92670718627100479,\n",
      "        '240mm': 0.98391133357168392,\n",
      "        '270mm': 0.99535216303181984,\n",
      "        '300mm': 1.0,\n",
      "        '330mm': 0.96996782266714332,\n",
      "        'avg_efficiency': 27.228333333333335,\n",
      "        'cluster': 0,\n",
      "        'id': '31',\n",
      "        'scores': {   '180': '27.97',\n",
      "                      '210': '26.99',\n",
      "                      '240': '27.13',\n",
      "                      '270': '27.84',\n",
      "                      '300': '25.92',\n",
      "                      '330': '27.52'}},\n",
      "    {   '180mm': 0.87764350453172202,\n",
      "        '210mm': 0.93383685800604221,\n",
      "        '240mm': 0.85256797583081567,\n",
      "        '270mm': 0.94108761329305124,\n",
      "        '300mm': 0.85468277945619331,\n",
      "        '330mm': 1.0,\n",
      "        'avg_efficiency': 30.120000000000001,\n",
      "        'cluster': 0,\n",
      "        'id': '30',\n",
      "        'scores': {   '180': '28.29',\n",
      "                      '210': '29.05',\n",
      "                      '240': '33.1',\n",
      "                      '270': '31.15',\n",
      "                      '300': '30.91',\n",
      "                      '330': '28.22'}}]\n"
     ]
    }
   ],
   "source": [
    "import pprint\n",
    "pp = pprint.PrettyPrinter(indent=4)\n",
    "pp.pprint(user_duffle)"
   ]
  },
  {
   "cell_type": "code",
   "execution_count": 12,
   "metadata": {
    "collapsed": false
   },
   "outputs": [
    {
     "data": {
      "text/plain": [
       "[<matplotlib.lines.Line2D at 0x117913110>]"
      ]
     },
     "execution_count": 12,
     "metadata": {},
     "output_type": "execute_result"
    },
    {
     "data": {
      "image/png": "[encoded data removed]",
      "text/plain": [
       "<matplotlib.figure.Figure at 0x116aadd90>"
      ]
     },
     "metadata": {},
     "output_type": "display_data"
    }
   ],
   "source": [
    "# unsupervised learning\n",
    "from sklearn.cluster import KMeans\n",
    "np.random.seed(0)\n",
    "kmeans = KMeans(n_clusters=3)\n",
    "kmeans.fit(np.array(user_cluster_data))\n",
    "labels = kmeans.labels_.tolist()\n",
    "\n",
    "for i in range(len(user_duffle)):\n",
    "    user_duffle[i][\"cluster\"] = labels[i]\n",
    "ave =[]\n",
    "for user in users:\n",
    "    ave.append(users[user][\"avg_efficiency\"])\n",
    "\n",
    "plt.plot(labels,ave,'o')"
   ]
  },
  {
   "cell_type": "markdown",
   "metadata": {},
   "source": [
    "**conclusion**: As we see in the last plot, the 3 groups has their avg_efficiency over a large range. There is no particular reasons how the cluster is formed. And we don't know whether n=3 is a good cluster number. From the previous violin plot, we also didn't see a trend that relate length to efficiency. "
   ]
  }
 ],
 "metadata": {
  "anaconda-cloud": {},
  "kernelspec": {
   "display_name": "Python [conda root]",
   "language": "python",
   "name": "conda-root-py"
  },
  "language_info": {
   "codemirror_mode": {
    "name": "ipython",
    "version": 2
   },
   "file_extension": ".py",
   "mimetype": "text/x-python",
   "name": "python",
   "nbconvert_exporter": "python",
   "pygments_lexer": "ipython2",
   "version": "2.7.12"
  }
 },
 "nbformat": 4,
 "nbformat_minor": 1
}
